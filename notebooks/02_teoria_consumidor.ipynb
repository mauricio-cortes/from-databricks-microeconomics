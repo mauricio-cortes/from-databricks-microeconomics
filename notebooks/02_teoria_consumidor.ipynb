{
 "cells": [
  {
   "cell_type": "markdown",
   "metadata": {},
   "source": [
    "# Teoria do Consumidor - Funções de Utilidade\n",
    "\n",
    "Este notebook demonstra como usar a biblioteca para analisar o comportamento do consumidor, incluindo funções de utilidade, curvas de indiferença e otimização do consumo."
   ]
  },
  {
   "cell_type": "code",
   "execution_count": null,
   "metadata": {},
   "outputs": [],
   "source": [
    "# Importações necessárias\n",
    "import sys\n",
    "sys.path.append('/Workspace/Repos/your-repo-name')\n",
    "\n",
    "import numpy as np\n",
    "import pandas as pd\n",
    "import plotly.graph_objects as go\n",
    "from plotly.subplots import make_subplots\n",
    "\n",
    "from microeconomics.utility import (\n",
    "    cobb_douglas_utility, perfect_substitutes_utility, perfect_complements_utility,\n",
    "    optimal_consumption\n",
    ")"
   ]
  },
  {
   "cell_type": "markdown",
   "metadata": {},
   "source": [
    "## 1. Função de Utilidade Cobb-Douglas"
   ]
  },
  {
   "cell_type": "code",
   "execution_count": null,
   "metadata": {},
   "outputs": [],
   "source": [
    "# Criar função de utilidade Cobb-Douglas: U = x1^0.6 * x2^0.4\n",
    "utility_cd = cobb_douglas_utility(alpha=0.6, beta=0.4)\n",
    "\n",
    "# Calcular utilidade para diferentes combinações\n",
    "x1_vals = [1, 2, 3, 4, 5]\n",
    "x2_vals = [1, 2, 3, 4, 5]\n",
    "\n",
    "print(\"Função de Utilidade Cobb-Douglas: U = x1^0.6 * x2^0.4\")\n",
    "print(\"\\nUtilidade para diferentes combinações:\")\n",
    "for x1 in x1_vals:\n",
    "    for x2 in x2_vals:\n",
    "        u = utility_cd.utility(x1, x2)\n",
    "        print(f\"U({x1}, {x2}) = {u:.2f}\")"
   ]
  },
  {
   "cell_type": "markdown",
   "metadata": {},
   "source": [
    "## 2. Curvas de Indiferença"
   ]
  },
  {
   "cell_type": "code",
   "execution_count": null,
   "metadata": {},
   "outputs": [],
   "source": [
    "# Plotar curvas de indiferença para diferentes níveis de utilidade\n",
    "utility_levels = [1, 2, 3, 4, 5]\n",
    "fig = utility_cd.plot_indifference_curves(\n",
    "    utility_levels,\n",
    "    x1_range=(0.1, 8),\n",
    "    title=\"Curvas de Indiferença - Cobb-Douglas\"\n",
    ")\n",
    "fig.show()"
   ]
  },
  {
   "cell_type": "markdown",
   "metadata": {},
   "source": [
    "## 3. Taxa Marginal de Substituição (TMS)"
   ]
  },
  {
   "cell_type": "code",
   "execution_count": null,
   "metadata": {},
   "outputs": [],
   "source": [
    "# Calcular TMS em diferentes pontos\n",
    "points = [(1, 4), (2, 3), (3, 2), (4, 1)]\n",
    "\n",
    "print(\"Taxa Marginal de Substituição (TMS):\")\n",
    "print(\"TMS = Utilidade Marginal de x1 / Utilidade Marginal de x2\")\n",
    "print()\n",
    "\n",
    "for x1, x2 in points:\n",
    "    mu1 = utility_cd.marginal_utility_x1(x1, x2)\n",
    "    mu2 = utility_cd.marginal_utility_x2(x1, x2)\n",
    "    mrs = utility_cd.mrs(x1, x2)\n",
    "    \n",
    "    print(f\"Ponto ({x1}, {x2}):\")\n",
    "    print(f\"  MU1 = {mu1:.3f}\")\n",
    "    print(f\"  MU2 = {mu2:.3f}\")\n",
    "    print(f\"  TMS = {mrs:.3f}\")\n",
    "    print()"
   ]
  },
  {
   "cell_type": "markdown",
   "metadata": {},
   "source": [
    "## 4. Otimização do Consumo"
   ]
  },
  {
   "cell_type": "code",
   "execution_count": null,
   "metadata": {},
   "outputs": [],
   "source": [
    "# Problema de otimização do consumidor\n",
    "income = 100  # Renda do consumidor\n",
    "price1 = 5    # Preço do bem 1\n",
    "price2 = 4    # Preço do bem 2\n",
    "\n",
    "# Encontrar consumo ótimo\n",
    "x1_optimal, x2_optimal = optimal_consumption(utility_cd, income, price1, price2)\n",
    "max_utility = utility_cd.utility(x1_optimal, x2_optimal)\n",
    "\n",
    "print(\"=== PROBLEMA DE OTIMIZAÇÃO DO CONSUMIDOR ===\")\n",
    "print(f\"Renda: R$ {income}\")\n",
    "print(f\"Preço do Bem 1: R$ {price1}\")\n",
    "print(f\"Preço do Bem 2: R$ {price2}\")\n",
    "print()\n",
    "print(\"SOLUÇÃO ÓTIMA:\")\n",
    "print(f\"Consumo ótimo do Bem 1: {x1_optimal:.2f} unidades\")\n",
    "print(f\"Consumo ótimo do Bem 2: {x2_optimal:.2f} unidades\")\n",
    "print(f\"Utilidade máxima: {max_utility:.2f}\")\n",
    "print(f\"Gasto total: R$ {price1*x1_optimal + price2*x2_optimal:.2f}\")"
   ]
  },
  {
   "cell_type": "markdown",
   "metadata": {},
   "source": [
    "## 5. Comparação de Diferentes Tipos de Utilidade"
   ]
  },
  {
   "cell_type": "code",
   "execution_count": null,
   "metadata": {},
   "outputs": [],
   "source": [
    "# Criar diferentes tipos de funções de utilidade\n",
    "utility_cd = cobb_douglas_utility(alpha=0.5, beta=0.5)\n",
    "utility_ps = perfect_substitutes_utility(alpha=1, beta=1)\n",
    "utility_pc = perfect_complements_utility(alpha=1, beta=1)\n",
    "\n",
    "# Plotar curvas de indiferença para comparação\n",
    "fig = make_subplots(\n",
    "    rows=1, cols=3,\n",
    "    subplot_titles=['Cobb-Douglas', 'Substitutos Perfeitos', 'Complementos Perfeitos']\n",
    ")\n",
    "\n",
    "# Cobb-Douglas\n",
    "x1_cd, x2_cd = utility_cd.indifference_curve(2, x1_range=(0.1, 6))\n",
    "fig.add_trace(go.Scatter(x=x1_cd, y=x2_cd, mode='lines', name='CD', line=dict(color='blue')), row=1, col=1)\n",
    "\n",
    "# Substitutos Perfeitos\n",
    "x1_ps, x2_ps = utility_ps.indifference_curve(4, x1_range=(0.1, 6))\n",
    "fig.add_trace(go.Scatter(x=x1_ps, y=x2_ps, mode='lines', name='PS', line=dict(color='red')), row=1, col=2)\n",
    "\n",
    "# Complementos Perfeitos\n",
    "x1_pc, x2_pc = utility_pc.indifference_curve(3, x1_range=(0.1, 6))\n",
    "fig.add_trace(go.Scatter(x=x1_pc, y=x2_pc, mode='lines', name='PC', line=dict(color='green')), row=1, col=3)\n",
    "\n",
    "fig.update_layout(\n",
    "    height=400,\n",
    "    title_text=\"Comparação de Diferentes Tipos de Preferências\",\n",
    "    showlegend=False\n",
    ")\n",
    "\n",
    "# Atualizar labels dos eixos\n",
    "fig.update_xaxes(title_text=\"Bem 1 (x₁)\")\n",
    "fig.update_yaxes(title_text=\"Bem 2 (x₂)\")\n",
    "\n",
    "fig.show()"
   ]
  },
  {
   "cell_type": "markdown",
   "metadata": {},
   "source": [
    "## 6. Análise de Sensibilidade - Mudanças na Renda"
   ]
  },
  {
   "cell_type": "code",
   "execution_count": null,
   "metadata": {},
   "outputs": [],
   "source": [
    "# Analisar como o consumo ótimo muda com a renda\n",
    "incomes = np.linspace(50, 200, 10)\n",
    "price1 = 5\n",
    "price2 = 4\n",
    "\n",
    "results = []\n",
    "for income in incomes:\n",
    "    x1_opt, x2_opt = optimal_consumption(utility_cd, income, price1, price2)\n",
    "    utility_max = utility_cd.utility(x1_opt, x2_opt)\n",
    "    \n",
    "    results.append({\n",
    "        'income': income,\n",
    "        'x1_optimal': x1_opt,\n",
    "        'x2_optimal': x2_opt,\n",
    "        'max_utility': utility_max\n",
    "    })\n",
    "\n",
    "results_df = pd.DataFrame(results)\n",
    "\n",
    "# Plotar curvas de Engel\n",
    "fig = make_subplots(\n",
    "    rows=2, cols=2,\n",
    "    subplot_titles=['Curva de Engel - Bem 1', 'Curva de Engel - Bem 2', \n",
    "                   'Utilidade vs Renda', 'Consumo Ótimo']\n",
    ")\n",
    "\n",
    "# Curva de Engel para Bem 1\n",
    "fig.add_trace(go.Scatter(\n",
    "    x=results_df['income'], y=results_df['x1_optimal'],\n",
    "    mode='lines+markers', name='Bem 1'\n",
    "), row=1, col=1)\n",
    "\n",
    "# Curva de Engel para Bem 2\n",
    "fig.add_trace(go.Scatter(\n",
    "    x=results_df['income'], y=results_df['x2_optimal'],\n",
    "    mode='lines+markers', name='Bem 2'\n",
    "), row=1, col=2)\n",
    "\n",
    "# Utilidade vs Renda\n",
    "fig.add_trace(go.Scatter(\n",
    "    x=results_df['income'], y=results_df['max_utility'],\n",
    "    mode='lines+markers', name='Utilidade'\n",
    "), row=2, col=1)\n",
    "\n",
    "# Trajetória de consumo ótimo\n",
    "fig.add_trace(go.Scatter(\n",
    "    x=results_df['x1_optimal'], y=results_df['x2_optimal'],\n",
    "    mode='lines+markers', name='Trajetória'\n",
    "), row=2, col=2)\n",
    "\n",
    "fig.update_layout(height=600, title_text=\"Análise de Sensibilidade - Mudanças na Renda\")\n",
    "fig.show()\n",
    "\n",
    "display(results_df)"
   ]
  },
  {
   "cell_type": "markdown",
   "metadata": {},
   "source": [
    "## 7. Análise de Sensibilidade - Mudanças nos Preços"
   ]
  },
  {
   "cell_type": "code",
   "execution_count": null,
   "metadata": {},
   "outputs": [],
   "source": [
    "# Analisar como o consumo muda com o preço do bem 1\n",
    "prices1 = np.linspace(2, 10, 15)\n",
    "income = 100\n",
    "price2 = 4\n",
    "\n",
    "price_results = []\n",
    "for p1 in prices1:\n",
    "    x1_opt, x2_opt = optimal_consumption(utility_cd, income, p1, price2)\n",
    "    utility_max = utility_cd.utility(x1_opt, x2_opt)\n",
    "    \n",
    "    price_results.append({\n",
    "        'price1': p1,\n",
    "        'x1_optimal': x1_opt,\n",
    "        'x2_optimal': x2_opt,\n",
    "        'max_utility': utility_max\n",
    "    })\n",
    "\n",
    "price_results_df = pd.DataFrame(price_results)\n",
    "\n",
    "# Plotar curva de demanda\n",
    "fig = make_subplots(\n",
    "    rows=1, cols=2,\n",
    "    subplot_titles=['Curva de Demanda - Bem 1', 'Efeito no Consumo do Bem 2']\n",
    ")\n",
    "\n",
    "# Curva de demanda\n",
    "fig.add_trace(go.Scatter(\n",
    "    x=price_results_df['x1_optimal'], y=price_results_df['price1'],\n",
    "    mode='lines+markers', name='Demanda Bem 1'\n",
    "), row=1, col=1)\n",
    "\n",
    "# Efeito no consumo do bem 2\n",
    "fig.add_trace(go.Scatter(\n",
    "    x=price_results_df['price1'], y=price_results_df['x2_optimal'],\n",
    "    mode='lines+markers', name='Consumo Bem 2'\n",
    "), row=1, col=2)\n",
    "\n",
    "fig.update_xaxes(title_text=\"Quantidade Bem 1\", row=1, col=1)\n",
    "fig.update_yaxes(title_text=\"Preço Bem 1\", row=1, col=1)\n",
    "fig.update_xaxes(title_text=\"Preço Bem 1\", row=1, col=2)\n",
    "fig.update_yaxes(title_text=\"Quantidade Bem 2\", row=1, col=2)\n",
    "\n",
    "fig.update_layout(height=400, title_text=\"Análise de Sensibilidade - Mudanças no Preço\")\n",
    "fig.show()\n",
    "\n",
    "display(price_results_df.head(10))"
   ]
  },
  {
   "cell_type": "markdown",
   "metadata": {},
   "source": [
    "## 8. Resumo e Conclusões"
   ]
  },
  {
   "cell_type": "code",
   "execution_count": null,
   "metadata": {},
   "outputs": [],
   "source": [
    "print(\"=== RESUMO DA ANÁLISE DE TEORIA DO CONSUMIDOR ===\")\n",
    "print()\n",
    "print(\"1. FUNÇÃO DE UTILIDADE ANALISADA:\")\n",
    "print(f\"   Cobb-Douglas: U = x1^{utility_cd.parameters['alpha']} * x2^{utility_cd.parameters['beta']}\")\n",
    "print()\n",
    "print(\"2. CARACTERÍSTICAS PRINCIPAIS:\")\n",
    "print(\"   - Curvas de indiferença convexas\")\n",
    "print(\"   - Taxa marginal de substituição decrescente\")\n",
    "print(\"   - Bens normais (consumo aumenta com renda)\")\n",
    "print()\n",
    "print(\"3. RESULTADOS DA OTIMIZAÇÃO:\")\n",
    "print(f\"   - Com renda de R$ {income} e preços R$ {price1} e R$ {price2}\")\n",
    "print(f\"   - Consumo ótimo: {x1_optimal:.2f} e {x2_optimal:.2f} unidades\")\n",
    "print(f\"   - Utilidade máxima: {max_utility:.2f}\")\n",
    "print()\n",
    "print(\"4. PROPRIEDADES OBSERVADAS:\")\n",
    "alpha = utility_cd.parameters['alpha']\n",
    "beta = utility_cd.parameters['beta']\n",
    "print(f\"   - Participação do bem 1 no orçamento: {alpha/(alpha+beta):.1%}\")\n",
    "print(f\"   - Participação do bem 2 no orçamento: {beta/(alpha+beta):.1%}\")\n",
    "print(f\"   - Elasticidade-renda: 1.0 (bem normal)\")"
   ]
  }
 ],
 "metadata": {
  "kernelspec": {
   "display_name": "Python 3",
   "language": "python",
   "name": "python3"
  },
  "language_info": {
   "codemirror_mode": {
    "name": "ipython",
    "version": 3
   },
   "file_extension": ".py",
   "mimetype": "text/x-python",
   "name": "python",
   "nbconvert_exporter": "python",
   "pygments_lexer": "ipython3",
   "version": "3.8.10"
  }
 },
 "nbformat": 4,
 "nbformat_minor": 4
}