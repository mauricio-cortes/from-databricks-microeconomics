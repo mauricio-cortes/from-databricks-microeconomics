{
 "cells": [
  {
   "cell_type": "markdown",
   "metadata": {},
   "source": [
    "# Análise de Demanda e Oferta - Microeconomia\n",
    "\n",
    "Este notebook demonstra como usar a biblioteca de microeconomia para analisar curvas de demanda e oferta, encontrar o equilíbrio de mercado e calcular elasticidades."
   ]
  },
  {
   "cell_type": "code",
   "execution_count": null,
   "metadata": {},
   "outputs": [],
   "source": [
    "# Instalação das dependências (execute apenas uma vez)\n",
    "%pip install numpy pandas matplotlib seaborn plotly scipy"
   ]
  },
  {
   "cell_type": "code",
   "execution_count": null,
   "metadata": {},
   "outputs": [],
   "source": [
    "# Importações necessárias\n",
    "import sys\n",
    "import os\n",
    "\n",
    "# Adicionar o diretório do projeto ao PATH\n",
    "sys.path.append('/Workspace/Repos/your-repo-name')\n",
    "\n",
    "import numpy as np\n",
    "import pandas as pd\n",
    "import plotly.graph_objects as go\n",
    "from plotly.subplots import make_subplots\n",
    "\n",
    "# Importar nossa biblioteca de microeconomia\n",
    "from microeconomics import (\n",
    "    linear_demand, linear_supply, \n",
    "    find_equilibrium, market_analysis, plot_market,\n",
    "    price_elasticity, elasticity_summary\n",
    ")"
   ]
  },
  {
   "cell_type": "markdown",
   "metadata": {},
   "source": [
    "## 1. Criando Curvas de Demanda e Oferta\n",
    "\n",
    "Vamos criar curvas lineares de demanda e oferta para um produto hipotético."
   ]
  },
  {
   "cell_type": "code",
   "execution_count": null,
   "metadata": {},
   "outputs": [],
   "source": [
    "# Criar curva de demanda: Qd = 100 - 2*P\n",
    "demand = linear_demand(intercept=100, slope=2)\n",
    "\n",
    "# Criar curva de oferta: Qs = -20 + 3*P\n",
    "supply = linear_supply(intercept=-20, slope=3)\n",
    "\n",
    "print(\"Curva de Demanda: Qd = 100 - 2*P\")\n",
    "print(\"Curva de Oferta: Qs = -20 + 3*P\")"
   ]
  },
  {
   "cell_type": "markdown",
   "metadata": {},
   "source": [
    "## 2. Encontrando o Equilíbrio de Mercado"
   ]
  },
  {
   "cell_type": "code",
   "execution_count": null,
   "metadata": {},
   "outputs": [],
   "source": [
    "# Encontrar o equilíbrio de mercado\n",
    "eq_price, eq_quantity = find_equilibrium(demand, supply)\n",
    "\n",
    "print(f\"Preço de Equilíbrio: R$ {eq_price:.2f}\")\n",
    "print(f\"Quantidade de Equilíbrio: {eq_quantity:.2f} unidades\")"
   ]
  },
  {
   "cell_type": "markdown",
   "metadata": {},
   "source": [
    "## 3. Análise Completa do Mercado"
   ]
  },
  {
   "cell_type": "code",
   "execution_count": null,
   "metadata": {},
   "outputs": [],
   "source": [
    "# Realizar análise completa do mercado\n",
    "analysis = market_analysis(demand, supply)\n",
    "\n",
    "print(\"=== ANÁLISE DE MERCADO ===\")\n",
    "print(f\"Preço de Equilíbrio: R$ {analysis['equilibrium_price']:.2f}\")\n",
    "print(f\"Quantidade de Equilíbrio: {analysis['equilibrium_quantity']:.2f}\")\n",
    "print(f\"Excedente do Consumidor: R$ {analysis['consumer_surplus']:.2f}\")\n",
    "print(f\"Excedente do Produtor: R$ {analysis['producer_surplus']:.2f}\")\n",
    "print(f\"Excedente Total: R$ {analysis['total_surplus']:.2f}\")"
   ]
  },
  {
   "cell_type": "markdown",
   "metadata": {},
   "source": [
    "## 4. Visualização do Mercado"
   ]
  },
  {
   "cell_type": "code",
   "execution_count": null,
   "metadata": {},
   "outputs": [],
   "source": [
    "# Criar gráfico interativo do mercado\n",
    "fig = plot_market(demand, supply, title=\"Análise de Mercado - Demanda vs Oferta\")\n",
    "fig.show()"
   ]
  },
  {
   "cell_type": "markdown",
   "metadata": {},
   "source": [
    "## 5. Simulação de Dados de Mercado"
   ]
  },
  {
   "cell_type": "code",
   "execution_count": null,
   "metadata": {},
   "outputs": [],
   "source": [
    "# Gerar dados simulados de preço e quantidade\n",
    "np.random.seed(42)\n",
    "prices = np.linspace(10, 40, 20) + np.random.normal(0, 1, 20)\n",
    "quantities_demanded = 100 - 2*prices + np.random.normal(0, 3, 20)\n",
    "\n",
    "# Criar DataFrame\n",
    "market_data = pd.DataFrame({\n",
    "    'price': prices,\n",
    "    'quantity': np.maximum(0, quantities_demanded),  # Garantir quantidades não-negativas\n",
    "    'income': np.random.normal(50000, 10000, 20)  # Renda simulada\n",
    "})\n",
    "\n",
    "display(market_data.head(10))"
   ]
  },
  {
   "cell_type": "markdown",
   "metadata": {},
   "source": [
    "## 6. Cálculo de Elasticidades"
   ]
  },
  {
   "cell_type": "code",
   "execution_count": null,
   "metadata": {},
   "outputs": [],
   "source": [
    "# Calcular elasticidade-preço da demanda\n",
    "price_elast = price_elasticity(market_data['price'], market_data['quantity'])\n",
    "avg_price_elasticity = np.mean(price_elast)\n",
    "\n",
    "print(f\"Elasticidade-Preço Média da Demanda: {avg_price_elasticity:.3f}\")\n",
    "\n",
    "if abs(avg_price_elasticity) < 1:\n",
    "    print(\"A demanda é INELÁSTICA (variações no preço têm pouco efeito na quantidade)\")\n",
    "elif abs(avg_price_elasticity) > 1:\n",
    "    print(\"A demanda é ELÁSTICA (variações no preço têm grande efeito na quantidade)\")\n",
    "else:\n",
    "    print(\"A demanda tem ELASTICIDADE UNITÁRIA\")"
   ]
  },
  {
   "cell_type": "code",
   "execution_count": null,
   "metadata": {},
   "outputs": [],
   "source": [
    "# Resumo completo de elasticidades\n",
    "elasticity_report = elasticity_summary(market_data, 'price', 'quantity', 'income')\n",
    "display(elasticity_report)"
   ]
  },
  {
   "cell_type": "markdown",
   "metadata": {},
   "source": [
    "## 7. Análise de Mudanças de Mercado"
   ]
  },
  {
   "cell_type": "code",
   "execution_count": null,
   "metadata": {},
   "outputs": [],
   "source": [
    "# Simular um choque de demanda (aumento na demanda)\n",
    "demand_shift = linear_demand(intercept=120, slope=2)  # Demanda aumentada\n",
    "\n",
    "# Novo equilíbrio\n",
    "new_eq_price, new_eq_quantity = find_equilibrium(demand_shift, supply)\n",
    "\n",
    "print(\"=== APÓS CHOQUE POSITIVO DE DEMANDA ===\")\n",
    "print(f\"Novo Preço de Equilíbrio: R$ {new_eq_price:.2f} (era R$ {eq_price:.2f})\")\n",
    "print(f\"Nova Quantidade de Equilíbrio: {new_eq_quantity:.2f} (era {eq_quantity:.2f})\")\n",
    "\n",
    "# Visualizar ambos os cenários\n",
    "fig = make_subplots(\n",
    "    rows=1, cols=2,\n",
    "    subplot_titles=('Mercado Original', 'Após Choque de Demanda')\n",
    ")\n",
    "\n",
    "# Gráfico original\n",
    "fig_original = plot_market(demand, supply)\n",
    "for trace in fig_original.data:\n",
    "    fig.add_trace(trace, row=1, col=1)\n",
    "\n",
    "# Gráfico após choque\n",
    "fig_new = plot_market(demand_shift, supply)\n",
    "for trace in fig_new.data:\n",
    "    fig.add_trace(trace, row=1, col=2)\n",
    "\n",
    "fig.update_layout(height=500, title_text=\"Comparação: Antes e Depois do Choque de Demanda\")\n",
    "fig.show()"
   ]
  },
  {
   "cell_type": "markdown",
   "metadata": {},
   "source": [
    "## 8. Análise de Diferentes Tipos de Curvas"
   ]
  },
  {
   "cell_type": "code",
   "execution_count": null,
   "metadata": {},
   "outputs": [],
   "source": [
    "# Comparar diferentes tipos de demanda\n",
    "from microeconomics.demand import DemandCurve\n",
    "\n",
    "# Demanda linear\n",
    "demand_linear = linear_demand(intercept=100, slope=2)\n",
    "\n",
    "# Demanda logarítmica\n",
    "demand_log = DemandCurve('log', log_coeff=-20, intercept=100)\n",
    "\n",
    "# Demanda potencial\n",
    "demand_power = DemandCurve('power', coefficient=1000, elasticity=1.5)\n",
    "\n",
    "# Plotar todas as curvas\n",
    "prices = np.linspace(1, 30, 100)\n",
    "\n",
    "fig = go.Figure()\n",
    "\n",
    "# Adicionar curva linear\n",
    "q_linear = demand_linear.quantity_demanded(prices)\n",
    "mask_linear = q_linear >= 0\n",
    "fig.add_trace(go.Scatter(\n",
    "    x=q_linear[mask_linear], y=prices[mask_linear],\n",
    "    mode='lines', name='Linear', line=dict(color='blue')\n",
    "))\n",
    "\n",
    "# Adicionar curva logarítmica\n",
    "q_log = demand_log.quantity_demanded(prices)\n",
    "mask_log = q_log >= 0\n",
    "fig.add_trace(go.Scatter(\n",
    "    x=q_log[mask_log], y=prices[mask_log],\n",
    "    mode='lines', name='Logarítmica', line=dict(color='red')\n",
    "))\n",
    "\n",
    "# Adicionar curva potencial\n",
    "q_power = demand_power.quantity_demanded(prices)\n",
    "mask_power = q_power >= 0\n",
    "fig.add_trace(go.Scatter(\n",
    "    x=q_power[mask_power], y=prices[mask_power],\n",
    "    mode='lines', name='Potencial', line=dict(color='green')\n",
    "))\n",
    "\n",
    "fig.update_layout(\n",
    "    title='Comparação de Diferentes Formas Funcionais de Demanda',\n",
    "    xaxis_title='Quantidade',\n",
    "    yaxis_title='Preço',\n",
    "    template='plotly_white'\n",
    ")\n",
    "\n",
    "fig.show()"
   ]
  },
  {
   "cell_type": "markdown",
   "metadata": {},
   "source": [
    "## 9. Exportar Resultados"
   ]
  },
  {
   "cell_type": "code",
   "execution_count": null,
   "metadata": {},
   "outputs": [],
   "source": [
    "# Criar relatório final\n",
    "report = pd.DataFrame({\n",
    "    'Métrica': ['Preço de Equilíbrio', 'Quantidade de Equilíbrio', \n",
    "                'Excedente do Consumidor', 'Excedente do Produtor', 'Excedente Total'],\n",
    "    'Valor Original': [eq_price, eq_quantity, analysis['consumer_surplus'], \n",
    "                       analysis['producer_surplus'], analysis['total_surplus']],\n",
    "    'Valor Após Choque': [new_eq_price, new_eq_quantity, \n",
    "                          market_analysis(demand_shift, supply)['consumer_surplus'],\n",
    "                          market_analysis(demand_shift, supply)['producer_surplus'],\n",
    "                          market_analysis(demand_shift, supply)['total_surplus']]\n",
    "})\n",
    "\n",
    "display(report)\n",
    "\n",
    "# Salvar em arquivo CSV (opcional)\n",
    "# report.to_csv('/tmp/analise_mercado.csv', index=False)\n",
    "# market_data.to_csv('/tmp/dados_mercado.csv', index=False)"
   ]
  }
 ],
 "metadata": {
  "kernelspec": {
   "display_name": "Python 3",
   "language": "python",
   "name": "python3"
  },
  "language_info": {
   "codemirror_mode": {
    "name": "ipython",
    "version": 3
   },
   "file_extension": ".py",
   "mimetype": "text/x-python",
   "name": "python",
   "nbconvert_exporter": "python",
   "pygments_lexer": "ipython3",
   "version": "3.8.10"
  }
 },
 "nbformat": 4,
 "nbformat_minor": 4
}