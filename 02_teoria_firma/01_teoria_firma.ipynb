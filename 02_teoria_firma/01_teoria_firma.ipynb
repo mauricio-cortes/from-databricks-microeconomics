{
 "cells": [
  {
   "cell_type": "markdown",
   "metadata": {
    "application/vnd.databricks.v1+cell": {
     "cellMetadata": {},
     "inputWidgets": {},
     "nuid": "c724cb35-dabc-4eba-8f1c-2d1fd4ee9747",
     "showTitle": false,
     "tableResultSettingsMap": {},
     "title": ""
    }
   },
   "source": [
    "# Teoria da Firma\n",
    "\n",
    "## Conceito Fundamental\n",
    "\n",
    "A Teoria da Firma estuda como as empresas tomam decisões de produção para maximizar seus lucros. Enquanto a **Teoria do Consumidor analisa a demanda**, a **Teoria da Firma analisa a oferta** - como os produtos chegam ao mercado.\n",
    "\n",
    "### As 3 Decisões Fundamentais:\n",
    "- *Função de Produção:* Como transformar insumos (trabalho, capital) em produtos. Define a capacidade produtiva e eficiência técnica da empresa.\n",
    "- *Análise de Custos:* Quanto custa produzir cada unidade. Inclui custos fixos (aluguel) e variáveis (matéria-prima) para determinar viabilidade.\n",
    "- *Maximização de Lucro:* Qual quantidade produzir para maior lucro. Envolve comparar receitas adicionais com custos marginais de produção.\n",
    "\n",
    "### Exemplo Real: Fábrica \"Camisetas Top\"\n",
    "\n",
    "A Camisetas Top Ltda. é uma pequena fábrica que produz camisetas básicas para o varejo local. Atualmente opera com:\n",
    "\n",
    "- 4 funcionários em tempo integral\n",
    "- 2 máquinas de estamparia\n",
    "- Jornada: 8 horas/dia\n",
    "- Mercado: Vende para lojas da região\n",
    "\n",
    "### Objetivo do Estudo\n",
    "Aplicar os 3 conceitos fundamentais da Teoria da Firma através de exemplos práticos da Camisetas Top."
   ]
  },
  {
   "cell_type": "markdown",
   "metadata": {
    "application/vnd.databricks.v1+cell": {
     "cellMetadata": {},
     "inputWidgets": {},
     "nuid": "1ecc58bb-084a-4f9f-a98c-9350565a8c48",
     "showTitle": false,
     "tableResultSettingsMap": {},
     "title": ""
    }
   },
   "source": [
    "1. Função de Produção\n",
    "\"Quantas camisetas conseguimos produzir?\""
   ]
  },
  {
   "cell_type": "code",
   "execution_count": 0,
   "metadata": {
    "application/vnd.databricks.v1+cell": {
     "cellMetadata": {},
     "inputWidgets": {},
     "nuid": "809d71da-334a-48fb-8a27-1c1b89f9b3fc",
     "showTitle": false,
     "tableResultSettingsMap": {},
     "title": ""
    }
   },
   "outputs": [],
   "source": [
    "produção_4_func = 50 * (4 ** 0.6) * (2 ** 0.4)  # 183 camisetas\n",
    "produção_5_func = 50 * (5 ** 0.6) * (2 ** 0.4)  # 206 camisetas\n",
    "\n",
    "print(f\"+1 funcionário = +{produção_5_func - produção_4_func:.0f} camisetas\")"
   ]
  }
 ],
 "metadata": {
  "application/vnd.databricks.v1+notebook": {
   "computePreferences": null,
   "dashboards": [],
   "environmentMetadata": {
    "base_environment": "",
    "environment_version": "3"
   },
   "inputWidgetPreferences": null,
   "language": "python",
   "notebookMetadata": {
    "pythonIndentUnit": 4
   },
   "notebookName": "01_teoria_firma",
   "widgets": {}
  },
  "language_info": {
   "name": "python"
  }
 },
 "nbformat": 4,
 "nbformat_minor": 0
}
