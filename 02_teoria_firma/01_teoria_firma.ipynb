{
 "cells": [
  {
   "cell_type": "markdown",
   "metadata": {
    "application/vnd.databricks.v1+cell": {
     "cellMetadata": {
      "byteLimit": 2048000,
      "rowLimit": 10000
     },
     "inputWidgets": {},
     "nuid": "c724cb35-dabc-4eba-8f1c-2d1fd4ee9747",
     "showTitle": false,
     "tableResultSettingsMap": {},
     "title": ""
    }
   },
   "source": [
    "# Teoria da Firma\n",
    "\n",
    "## Conceito Fundamental\n",
    "\n",
    "A Teoria da Firma estuda como as empresas tomam decisões de produção para maximizar seus lucros. Enquanto a **Teoria do Consumidor analisa a demanda**, a **Teoria da Firma analisa a oferta** - como os produtos chegam ao mercado.\n",
    "\n",
    "### As 3 Decisões Fundamentais:\n",
    "- *Função de Produção:* Como transformar insumos (trabalho, capital) em produtos. Define a capacidade produtiva e eficiência técnica da empresa.\n",
    "- *Análise de Custos:* Quanto custa produzir cada unidade. Inclui custos fixos (aluguel) e variáveis (matéria-prima) para determinar viabilidade.\n",
    "- *Maximização de Lucro:* Qual quantidade produzir para maior lucro. Envolve comparar receitas adicionais com custos marginais de produção.\n",
    "\n",
    "### Exemplo Real: Fábrica \"Camisetas Top\"\n",
    "\n",
    "A Camisetas Top Ltda. é uma pequena fábrica que produz camisetas básicas para o varejo local. Atualmente opera com:\n",
    "\n",
    "- 4 funcionários em tempo integral\n",
    "- 2 máquinas de estamparia\n",
    "- Jornada: 8 horas/dia\n",
    "- Mercado: Vende para lojas da região\n",
    "\n",
    "### Objetivo do Estudo\n",
    "Aplicar os 3 conceitos fundamentais da Teoria da Firma através de exemplos práticos da Camisetas Top."
   ]
  },
  {
   "cell_type": "markdown",
   "metadata": {
    "application/vnd.databricks.v1+cell": {
     "cellMetadata": {
      "byteLimit": 2048000,
      "rowLimit": 10000
     },
     "inputWidgets": {},
     "nuid": "1ecc58bb-084a-4f9f-a98c-9350565a8c48",
     "showTitle": false,
     "tableResultSettingsMap": {},
     "title": ""
    }
   },
   "source": [
    "1. Função de Produção\n",
    "\"Devo contratar mais funcionários e comprar mais máquinas?\"\n",
    "2. Função Custo\n",
    "\"Se eu produzir mais meu custo por unidade aumenta ou diminui?\"\n",
    "3. Maximização de Lucro\n",
    "\"Qual o ponto de produção onde meu lucro é maximizado?\"\n",
    "\n",
    "Segue abaixo exemplo com dados fictícios para responder a essas questões com base na Teoria da Firma.\n"
   ]
  },
  {
   "cell_type": "code",
   "execution_count": 0,
   "metadata": {
    "application/vnd.databricks.v1+cell": {
     "cellMetadata": {
      "byteLimit": 2048000,
      "rowLimit": 10000
     },
     "inputWidgets": {},
     "nuid": "2a6e4f2b-66c1-49ec-a73d-a4a167f635ef",
     "showTitle": false,
     "tableResultSettingsMap": {},
     "title": ""
    }
   },
   "outputs": [],
   "source": [
    "import matplotlib.pyplot as plt\n",
    "\n",
    "funcionarios = [1, 2, 3, 4, 5]\n",
    "producao = [76, 129, 173, 209, 240]\n",
    "custo_medio = [7.89, 4.65, 3.47, 2.87, 2.50]\n",
    "lucro = [304, 645, 795, 800, 780]\n",
    "\n",
    "plt.figure(figsize=(15, 4))\n",
    "\n",
    "# Gráfico Função Produção\n",
    "plt.subplot(1, 3, 1)\n",
    "plt.plot(funcionarios, producao, 'bo-')\n",
    "plt.xlabel('Número de Funcionários')\n",
    "plt.ylabel('Camisetas por Dia')\n",
    "plt.title('Produção com Mais Funcionários')\n",
    "plt.grid(True)\n",
    "\n",
    "# Gráfico Função Custo\n",
    "plt.subplot(1, 3, 2)\n",
    "plt.plot(producao, custo_medio, 'go-')\n",
    "plt.xlabel('Produção (camisetas)')\n",
    "plt.ylabel('Custo por Camiseta (R$)')\n",
    "plt.title('Custo Médio vs Produção')\n",
    "plt.grid(True)\n",
    "\n",
    "# Gráfico Maximização Lucro\n",
    "plt.subplot(1, 3, 3)\n",
    "plt.plot(producao, lucro, 'ro-')\n",
    "plt.xlabel('Produção (camisetas)')\n",
    "plt.ylabel('Lucro (R$)')\n",
    "plt.title('Lucro vs Produção')\n",
    "plt.grid(True)\n",
    "\n",
    "plt.tight_layout()\n",
    "plt.show()"
   ]
  },
  {
   "cell_type": "markdown",
   "metadata": {
    "application/vnd.databricks.v1+cell": {
     "cellMetadata": {
      "byteLimit": 2048000,
      "rowLimit": 10000
     },
     "inputWidgets": {},
     "nuid": "a30eb147-7a67-4024-8f7a-6c7dd55c6557",
     "showTitle": false,
     "tableResultSettingsMap": {},
     "title": ""
    }
   },
   "source": [
    "# Conclusão da Análise\n",
    "\n",
    "### Função Produção:\n",
    "\n",
    "Mostra que quanto mais funcionários, mais camisetas produzimos, mas o aumento da produção vai ficando menor a cada funcionário novo.\n",
    "\n",
    "### Função Custo:\n",
    "\n",
    "Quanto mais produzimos, mais barato fica cada camiseta, produzir em grande quantidade reduz o custo unitário.\n",
    "\n",
    "### Maximização de Lucro:\n",
    "\n",
    "O lucro aumenta até certo ponto (209 camisetas), depois começa a cair - temos um ponto ideal."
   ]
  }
 ],
 "metadata": {
  "application/vnd.databricks.v1+notebook": {
   "computePreferences": null,
   "dashboards": [],
   "environmentMetadata": {
    "base_environment": "",
    "environment_version": "3"
   },
   "inputWidgetPreferences": null,
   "language": "python",
   "notebookMetadata": {
    "pythonIndentUnit": 4
   },
   "notebookName": "01_teoria_firma",
   "widgets": {}
  },
  "language_info": {
   "name": "python"
  }
 },
 "nbformat": 4,
 "nbformat_minor": 0
}
