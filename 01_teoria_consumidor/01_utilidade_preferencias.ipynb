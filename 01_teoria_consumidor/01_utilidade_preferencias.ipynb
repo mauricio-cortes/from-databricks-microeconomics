{
 "cells": [
  {
   "cell_type": "markdown",
   "metadata": {
    "application/vnd.databricks.v1+cell": {
     "cellMetadata": {
      "byteLimit": 2048000,
      "rowLimit": 10000
     },
     "inputWidgets": {},
     "nuid": "7aefb6b9-a6ad-4d69-8e00-c032cdd9c674",
     "showTitle": false,
     "tableResultSettingsMap": {},
     "title": ""
    }
   },
   "source": [
    "#  Teoria do Consumidor: Utilidade e Preferências\n",
    " \n",
    "##  Conceito de Utilidade\n",
    " \n",
    "Utilidade representa a satisfação ou benefício que um consumidor obtém ao consumir bens e serviços. É uma medida subjetiva que ajuda a entender as escolhas dos consumidores.\n",
    "\n",
    "###  Função de Utilidade Cobb-Douglas\n",
    " \n",
    "A função mais utilizada em microeconomia é a Cobb-Douglas:\n",
    "U(x,y) = xᵅ · yᵝ\n",
    "\n",
    "Onde:\n",
    "\n",
    "x e y são quantidades dos bens\n",
    "α e β representam as preferências do consumidor.\n",
    "\n",
    "###  Exemplo Real: Escolha entre Refeições e Entretenimento\n",
    "\n",
    "Suponha um estudante que precisa decidir como gastar sua mesada de R$ 200,00 entre:\n",
    "\n",
    "- Bem X: Refeições (R$ 20,00 cada)\n",
    "- Bem Y: Cinemas (R$ 40,00 cada)\n"
   ]
  },
  {
   "cell_type": "code",
   "execution_count": 0,
   "metadata": {
    "application/vnd.databricks.v1+cell": {
     "cellMetadata": {
      "byteLimit": 2048000,
      "rowLimit": 10000
     },
     "inputWidgets": {},
     "nuid": "145f1a02-be79-46be-afc1-479b940b5957",
     "showTitle": false,
     "tableResultSettingsMap": {},
     "title": ""
    }
   },
   "outputs": [],
   "source": [
    "def utilidade_refeicao_entretenimento(refeicoes, cinemas, alpha=0.7, beta=0.3):\n",
    "    \"\"\"\n",
    "    Alpha=0.6: valoriza mais comida (60% da utilidade)\n",
    "    Beta=0.4: valoriza menos cinama (40% da utilidade)\n",
    "    \"\"\"\n",
    "    resultado = (refeicoes ** alpha) * (cinemas ** beta) \n",
    "    return resultado\n",
    "\n",
    "# Cenário atual\n",
    "refeicoes = 6\n",
    "cinemas = 2\n",
    "\n",
    "u_atual = utilidade_refeicao_entretenimento(refeicoes, cinemas)\n",
    "print(f'Cenário atual: {refeicoes} refeições + {cinemas} cinemas')\n",
    "print(f'Utilidade: U = {u_atual:.2f}')"
   ]
  },
  {
   "cell_type": "code",
   "execution_count": 0,
   "metadata": {
    "application/vnd.databricks.v1+cell": {
     "cellMetadata": {
      "byteLimit": 2048000,
      "rowLimit": 10000
     },
     "inputWidgets": {},
     "nuid": "5b8babbd-f26e-4824-9db2-7b35035ee728",
     "showTitle": false,
     "tableResultSettingsMap": {},
     "title": ""
    }
   },
   "outputs": [],
   "source": [
    "# Cenários alternativos\n",
    "cenarios = [\n",
    "    (8, 1), # Mais refeicoes, menos cinema\n",
    "    (4, 3), # Menos refeicoes, mais cinema\n",
    "    (5, 2), # Com equilíbrio entre refeicoes e cinema\n",
    "]\n",
    "\n",
    "# Melhor cenário\n",
    "utilidades = []\n",
    "for refeicoes, cinemas in cenarios:\n",
    "    u = utilidade_refeicao_entretenimento(refeicoes, cinemas)\n",
    "    print(f\"Calculando: {refeicoes} refeições, {cinemas} cinemas → U = {u}\")\n",
    "    utilidades.append(u)\n",
    "\n",
    "print(f\"Lista de utilidades: {utilidades}\")\n",
    "\n",
    "if utilidades:  # Verifica se a lista não está vazia\n",
    "    maior_utilidade = max(utilidades)\n",
    "    indice_melhor = utilidades.index(maior_utilidade)\n",
    "    melhor_cenario = cenarios[indice_melhor]\n",
    "\n",
    "    print(f\"\\nMelhor opção: {melhor_cenario[0]} refeições + {melhor_cenario[1]} cinemas\")\n",
    "    print(f\"Utilidade: U = {maior_utilidade:.2f}\")\n",
    "else:\n",
    "    print(\"Erro: Nenhuma utilidade foi calculada\")\n",
    "\n"
   ]
  },
  {
   "cell_type": "markdown",
   "metadata": {
    "application/vnd.databricks.v1+cell": {
     "cellMetadata": {},
     "inputWidgets": {},
     "nuid": "efe58ffc-be68-495f-988b-54764ee7b22a",
     "showTitle": false,
     "tableResultSettingsMap": {},
     "title": ""
    }
   },
   "source": [
    "## Análise do Resultado:\n",
    "\n",
    "O estudante obtém maior utilidade com 8 refeições e 1 cinema porque:\n",
    "\n",
    "Sua preferência (α=0.7) valoriza mais a alimentação\n",
    "\n",
    "Mesmo indo menos ao cinema, a satisfação com mais refeições compensa\n",
    "\n",
    "Isso reflete suas preferências pessoais: segurança alimentar > entretenimento\n",
    "\n",
    "Tomada de Decisão:\n",
    "Com base nessa análise, o estudante pode alocar melhor sua mesada para maximizar sua satisfação, priorizando o que realmente importa para ele."
   ]
  }
 ],
 "metadata": {
  "application/vnd.databricks.v1+notebook": {
   "computePreferences": null,
   "dashboards": [],
   "environmentMetadata": {
    "base_environment": "",
    "environment_version": "3"
   },
   "inputWidgetPreferences": null,
   "language": "python",
   "notebookMetadata": {
    "pythonIndentUnit": 4
   },
   "notebookName": "01_utilidade_preferencias",
   "widgets": {}
  },
  "language_info": {
   "name": "python"
  }
 },
 "nbformat": 4,
 "nbformat_minor": 0
}
