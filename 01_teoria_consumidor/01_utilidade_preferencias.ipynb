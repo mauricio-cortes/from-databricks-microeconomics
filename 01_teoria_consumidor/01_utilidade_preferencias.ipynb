{
 "cells": [
  {
   "cell_type": "markdown",
   "metadata": {
    "application/vnd.databricks.v1+cell": {
     "cellMetadata": {
      "byteLimit": 2048000,
      "rowLimit": 10000
     },
     "inputWidgets": {},
     "nuid": "7aefb6b9-a6ad-4d69-8e00-c032cdd9c674",
     "showTitle": false,
     "tableResultSettingsMap": {},
     "title": ""
    }
   },
   "source": [
    "#  Teoria do Consumidor: Utilidade e Preferências\n",
    " \n",
    "##  Conceito de Utilidade\n",
    " \n",
    "Utilidade representa a satisfação ou benefício que um consumidor obtém ao consumir bens e serviços. É uma medida subjetiva que ajuda a entender as escolhas dos consumidores.\n",
    "\n",
    "##  Função de Utilidade Cobb-Douglas\n",
    " \n",
    "A função mais utilizada em microeconomia é a Cobb-Douglas:\n",
    "U(x,y) = xᵅ · yᵝ\n",
    "\n",
    "Onde:\n",
    "\n",
    "x e y são quantidades dos bens\n",
    "\n",
    "α e β representam as preferências do consumidor\n"
   ]
  },
  {
   "cell_type": "code",
   "execution_count": 0,
   "metadata": {
    "application/vnd.databricks.v1+cell": {
     "cellMetadata": {
      "byteLimit": 2048000,
      "rowLimit": 10000
     },
     "inputWidgets": {},
     "nuid": "27b9ada5-6cce-41ad-b949-3de4192fc379",
     "showTitle": false,
     "tableResultSettingsMap": {},
     "title": ""
    }
   },
   "outputs": [],
   "source": [
    "# Exemplo 1: Função de Utilidade\n",
    "def utilidade(x, y, alpha=0.5, beta=0.5):\n",
    "    \"\"\"Calcula a utilidade Cobb-Douglas\"\"\"\n",
    "    return (x ** alpha) * (y ** beta)\n",
    "\n",
    "# Testando a função\n",
    "x, y = 4, 9\n",
    "u = utilidade(x, y)\n",
    "print(f\"Utilidade com {x}X e {y}Y: U = {u:.2f}\")"
   ]
  }
 ],
 "metadata": {
  "application/vnd.databricks.v1+notebook": {
   "computePreferences": null,
   "dashboards": [],
   "environmentMetadata": {
    "base_environment": "",
    "environment_version": "3"
   },
   "inputWidgetPreferences": null,
   "language": "python",
   "notebookMetadata": {
    "pythonIndentUnit": 4
   },
   "notebookName": "01_utilidade_preferencias",
   "widgets": {}
  },
  "language_info": {
   "name": "python"
  }
 },
 "nbformat": 4,
 "nbformat_minor": 0
}
