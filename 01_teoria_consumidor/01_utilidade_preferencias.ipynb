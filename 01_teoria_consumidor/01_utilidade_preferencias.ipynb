{
 "cells": [
  {
   "cell_type": "code",
   "execution_count": 0,
   "metadata": {
    "application/vnd.databricks.v1+cell": {
     "cellMetadata": {
      "byteLimit": 2048000,
      "rowLimit": 10000
     },
     "inputWidgets": {},
     "nuid": "27b9ada5-6cce-41ad-b949-3de4192fc379",
     "showTitle": false,
     "tableResultSettingsMap": {},
     "title": ""
    }
   },
   "outputs": [],
   "source": [
    "# 01_utilidade_preferencias.ipynb\n",
    "\n",
    "# Célula 1: Importar bibliotecas\n",
    "import numpy as np\n",
    "import matplotlib.pyplot as plt\n",
    "\n",
    "# Célula 2: Funções de Utilidade\n",
    "def utilidade(x, y):\n",
    "    \"\"\"Função Cobb-Douglas simples\"\"\"\n",
    "    return np.sqrt(x * y)\n",
    "\n",
    "# Teste rápido\n",
    "print(\"Utilidade com 4X e 9Y:\", utilidade(4, 9))\n",
    "\n",
    "# Célula 3: Curva de Indiferença\n",
    "x = np.linspace(1, 10, 10)  # Quantidade do bem X\n",
    "u = 6  # Nível de utilidade fixo\n",
    "y = (u**2) / x  # Calcula Y para manter utilidade constante\n",
    "\n",
    "plt.plot(x, y, 'b-')\n",
    "plt.xlabel('Bem X')\n",
    "plt.ylabel('Bem Y')\n",
    "plt.title('Curva de Indiferença (U=6)')\n",
    "plt.grid(True)\n",
    "plt.show()\n",
    "\n",
    "# Célula 4: Múltiplas Curvas\n",
    "for u in [4, 6, 8]:\n",
    "    y = (u**2) / x\n",
    "    plt.plot(x, y, label=f'U={u}')\n",
    "\n",
    "plt.xlabel('Bem X')\n",
    "plt.ylabel('Bem Y')\n",
    "plt.title('Mapa de Indiferença')\n",
    "plt.legend()\n",
    "plt.grid(True)\n",
    "plt.show()\n",
    "\n",
    "# Célula 5: Taxa Marginal de Substituição\n",
    "def tms(x, y):\n",
    "    \"\"\"Quantos Y troco por 1 X?\"\"\"\n",
    "    return y / x\n",
    "\n",
    "print(\"TMS em X=2, Y=4:\", tms(2, 4))\n",
    "print(\"Significado: Troco 2Y por 1X\")\n",
    "\n",
    "# Célula 6: Exemplo Prático\n",
    "print(\"\\n--- Comparando Cestas ---\")\n",
    "cestas = [(2, 8), (4, 4), (8, 2)]\n",
    "\n",
    "for x, y in cestas:\n",
    "    u = utilidade(x, y)\n",
    "    print(f\"Cesta ({x}X, {y}Y): U = {u:.1f}\")\n",
    "\n",
    "# Todas dão mesma utilidade! São indiferentes para o consumidor."
   ]
  }
 ],
 "metadata": {
  "application/vnd.databricks.v1+notebook": {
   "computePreferences": null,
   "dashboards": [],
   "environmentMetadata": {
    "base_environment": "",
    "environment_version": "3"
   },
   "inputWidgetPreferences": null,
   "language": "python",
   "notebookMetadata": {
    "pythonIndentUnit": 4
   },
   "notebookName": "01_utilidade_preferencias",
   "widgets": {}
  },
  "language_info": {
   "name": "python"
  }
 },
 "nbformat": 4,
 "nbformat_minor": 0
}
